{
  "nbformat": 4,
  "nbformat_minor": 0,
  "metadata": {
    "colab": {
      "provenance": [],
      "authorship_tag": "ABX9TyMGl4f+gTaYkaDFJHpUTFNp",
      "include_colab_link": true
    },
    "kernelspec": {
      "name": "python3",
      "display_name": "Python 3"
    },
    "language_info": {
      "name": "python"
    }
  },
  "cells": [
    {
      "cell_type": "markdown",
      "metadata": {
        "id": "view-in-github",
        "colab_type": "text"
      },
      "source": [
        "<a href=\"https://colab.research.google.com/github/alchemistcohen/Steam-Tables-App/blob/main/Steam_Tables_App.ipynb\" target=\"_parent\"><img src=\"https://colab.research.google.com/assets/colab-badge.svg\" alt=\"Open In Colab\"/></a>"
      ]
    },
    {
      "cell_type": "markdown",
      "source": [
        "# Steam tables contain specific volume, enthalpy, internal energy, and entropy of water (both liquid and vapor) over a range of temperatures and pressures, including at saturation and supercritical conditions."
      ],
      "metadata": {
        "id": "z7f12gve0WYZ"
      }
    },
    {
      "cell_type": "markdown",
      "source": [
        "\n",
        "\n",
        "1.   Saturation by Temperature: Input a temperature and fetch the saturation properties (e.g., pressure, specific volumes, enthalpy, and entropy).\n",
        "2.   Saturation by Pressure: Input a pressure and fetch corresponding saturation properties.\n",
        "3.   Interpolation/Extrapolation: Provide known values and a target to estimate properties.\n",
        "\n"
      ],
      "metadata": {
        "id": "9JTQtfUP0cxy"
      }
    },
    {
      "cell_type": "code",
      "source": [
        "pip install gradio"
      ],
      "metadata": {
        "colab": {
          "base_uri": "https://localhost:8080/"
        },
        "id": "bSkT80H11m7e",
        "outputId": "71f08e52-c9b6-40f4-9468-371273e4ec5f"
      },
      "execution_count": null,
      "outputs": [
        {
          "output_type": "stream",
          "name": "stdout",
          "text": [
            "Collecting gradio\n",
            "  Downloading gradio-5.12.0-py3-none-any.whl.metadata (16 kB)\n",
            "Collecting aiofiles<24.0,>=22.0 (from gradio)\n",
            "  Downloading aiofiles-23.2.1-py3-none-any.whl.metadata (9.7 kB)\n",
            "Requirement already satisfied: anyio<5.0,>=3.0 in /usr/local/lib/python3.10/dist-packages (from gradio) (3.7.1)\n",
            "Collecting fastapi<1.0,>=0.115.2 (from gradio)\n",
            "  Downloading fastapi-0.115.6-py3-none-any.whl.metadata (27 kB)\n",
            "Collecting ffmpy (from gradio)\n",
            "  Downloading ffmpy-0.5.0-py3-none-any.whl.metadata (3.0 kB)\n",
            "Collecting gradio-client==1.5.4 (from gradio)\n",
            "  Downloading gradio_client-1.5.4-py3-none-any.whl.metadata (7.1 kB)\n",
            "Requirement already satisfied: httpx>=0.24.1 in /usr/local/lib/python3.10/dist-packages (from gradio) (0.28.1)\n",
            "Requirement already satisfied: huggingface-hub>=0.25.1 in /usr/local/lib/python3.10/dist-packages (from gradio) (0.27.1)\n",
            "Requirement already satisfied: jinja2<4.0 in /usr/local/lib/python3.10/dist-packages (from gradio) (3.1.5)\n",
            "Collecting markupsafe~=2.0 (from gradio)\n",
            "  Downloading MarkupSafe-2.1.5-cp310-cp310-manylinux_2_17_x86_64.manylinux2014_x86_64.whl.metadata (3.0 kB)\n",
            "Requirement already satisfied: numpy<3.0,>=1.0 in /usr/local/lib/python3.10/dist-packages (from gradio) (1.26.4)\n",
            "Requirement already satisfied: orjson~=3.0 in /usr/local/lib/python3.10/dist-packages (from gradio) (3.10.13)\n",
            "Requirement already satisfied: packaging in /usr/local/lib/python3.10/dist-packages (from gradio) (24.2)\n",
            "Requirement already satisfied: pandas<3.0,>=1.0 in /usr/local/lib/python3.10/dist-packages (from gradio) (2.2.2)\n",
            "Requirement already satisfied: pillow<12.0,>=8.0 in /usr/local/lib/python3.10/dist-packages (from gradio) (11.1.0)\n",
            "Requirement already satisfied: pydantic>=2.0 in /usr/local/lib/python3.10/dist-packages (from gradio) (2.10.4)\n",
            "Collecting pydub (from gradio)\n",
            "  Downloading pydub-0.25.1-py2.py3-none-any.whl.metadata (1.4 kB)\n",
            "Collecting python-multipart>=0.0.18 (from gradio)\n",
            "  Downloading python_multipart-0.0.20-py3-none-any.whl.metadata (1.8 kB)\n",
            "Requirement already satisfied: pyyaml<7.0,>=5.0 in /usr/local/lib/python3.10/dist-packages (from gradio) (6.0.2)\n",
            "Collecting ruff>=0.2.2 (from gradio)\n",
            "  Downloading ruff-0.9.1-py3-none-manylinux_2_17_x86_64.manylinux2014_x86_64.whl.metadata (25 kB)\n",
            "Collecting safehttpx<0.2.0,>=0.1.6 (from gradio)\n",
            "  Downloading safehttpx-0.1.6-py3-none-any.whl.metadata (4.2 kB)\n",
            "Collecting semantic-version~=2.0 (from gradio)\n",
            "  Downloading semantic_version-2.10.0-py2.py3-none-any.whl.metadata (9.7 kB)\n",
            "Collecting starlette<1.0,>=0.40.0 (from gradio)\n",
            "  Downloading starlette-0.45.2-py3-none-any.whl.metadata (6.3 kB)\n",
            "Collecting tomlkit<0.14.0,>=0.12.0 (from gradio)\n",
            "  Downloading tomlkit-0.13.2-py3-none-any.whl.metadata (2.7 kB)\n",
            "Requirement already satisfied: typer<1.0,>=0.12 in /usr/local/lib/python3.10/dist-packages (from gradio) (0.15.1)\n",
            "Requirement already satisfied: typing-extensions~=4.0 in /usr/local/lib/python3.10/dist-packages (from gradio) (4.12.2)\n",
            "Collecting uvicorn>=0.14.0 (from gradio)\n",
            "  Downloading uvicorn-0.34.0-py3-none-any.whl.metadata (6.5 kB)\n",
            "Requirement already satisfied: fsspec in /usr/local/lib/python3.10/dist-packages (from gradio-client==1.5.4->gradio) (2024.10.0)\n",
            "Requirement already satisfied: websockets<15.0,>=10.0 in /usr/local/lib/python3.10/dist-packages (from gradio-client==1.5.4->gradio) (14.1)\n",
            "Requirement already satisfied: idna>=2.8 in /usr/local/lib/python3.10/dist-packages (from anyio<5.0,>=3.0->gradio) (3.10)\n",
            "Requirement already satisfied: sniffio>=1.1 in /usr/local/lib/python3.10/dist-packages (from anyio<5.0,>=3.0->gradio) (1.3.1)\n",
            "Requirement already satisfied: exceptiongroup in /usr/local/lib/python3.10/dist-packages (from anyio<5.0,>=3.0->gradio) (1.2.2)\n",
            "Collecting starlette<1.0,>=0.40.0 (from gradio)\n",
            "  Downloading starlette-0.41.3-py3-none-any.whl.metadata (6.0 kB)\n",
            "Requirement already satisfied: certifi in /usr/local/lib/python3.10/dist-packages (from httpx>=0.24.1->gradio) (2024.12.14)\n",
            "Requirement already satisfied: httpcore==1.* in /usr/local/lib/python3.10/dist-packages (from httpx>=0.24.1->gradio) (1.0.7)\n",
            "Requirement already satisfied: h11<0.15,>=0.13 in /usr/local/lib/python3.10/dist-packages (from httpcore==1.*->httpx>=0.24.1->gradio) (0.14.0)\n",
            "Requirement already satisfied: filelock in /usr/local/lib/python3.10/dist-packages (from huggingface-hub>=0.25.1->gradio) (3.16.1)\n",
            "Requirement already satisfied: requests in /usr/local/lib/python3.10/dist-packages (from huggingface-hub>=0.25.1->gradio) (2.32.3)\n",
            "Requirement already satisfied: tqdm>=4.42.1 in /usr/local/lib/python3.10/dist-packages (from huggingface-hub>=0.25.1->gradio) (4.67.1)\n",
            "Requirement already satisfied: python-dateutil>=2.8.2 in /usr/local/lib/python3.10/dist-packages (from pandas<3.0,>=1.0->gradio) (2.8.2)\n",
            "Requirement already satisfied: pytz>=2020.1 in /usr/local/lib/python3.10/dist-packages (from pandas<3.0,>=1.0->gradio) (2024.2)\n",
            "Requirement already satisfied: tzdata>=2022.7 in /usr/local/lib/python3.10/dist-packages (from pandas<3.0,>=1.0->gradio) (2024.2)\n",
            "Requirement already satisfied: annotated-types>=0.6.0 in /usr/local/lib/python3.10/dist-packages (from pydantic>=2.0->gradio) (0.7.0)\n",
            "Requirement already satisfied: pydantic-core==2.27.2 in /usr/local/lib/python3.10/dist-packages (from pydantic>=2.0->gradio) (2.27.2)\n",
            "Requirement already satisfied: click>=8.0.0 in /usr/local/lib/python3.10/dist-packages (from typer<1.0,>=0.12->gradio) (8.1.8)\n",
            "Requirement already satisfied: shellingham>=1.3.0 in /usr/local/lib/python3.10/dist-packages (from typer<1.0,>=0.12->gradio) (1.5.4)\n",
            "Requirement already satisfied: rich>=10.11.0 in /usr/local/lib/python3.10/dist-packages (from typer<1.0,>=0.12->gradio) (13.9.4)\n",
            "Requirement already satisfied: six>=1.5 in /usr/local/lib/python3.10/dist-packages (from python-dateutil>=2.8.2->pandas<3.0,>=1.0->gradio) (1.17.0)\n",
            "Requirement already satisfied: markdown-it-py>=2.2.0 in /usr/local/lib/python3.10/dist-packages (from rich>=10.11.0->typer<1.0,>=0.12->gradio) (3.0.0)\n",
            "Requirement already satisfied: pygments<3.0.0,>=2.13.0 in /usr/local/lib/python3.10/dist-packages (from rich>=10.11.0->typer<1.0,>=0.12->gradio) (2.18.0)\n",
            "Requirement already satisfied: charset-normalizer<4,>=2 in /usr/local/lib/python3.10/dist-packages (from requests->huggingface-hub>=0.25.1->gradio) (3.4.1)\n",
            "Requirement already satisfied: urllib3<3,>=1.21.1 in /usr/local/lib/python3.10/dist-packages (from requests->huggingface-hub>=0.25.1->gradio) (2.3.0)\n",
            "Requirement already satisfied: mdurl~=0.1 in /usr/local/lib/python3.10/dist-packages (from markdown-it-py>=2.2.0->rich>=10.11.0->typer<1.0,>=0.12->gradio) (0.1.2)\n",
            "Downloading gradio-5.12.0-py3-none-any.whl (57.6 MB)\n",
            "\u001b[2K   \u001b[90m━━━━━━━━━━━━━━━━━━━━━━━━━━━━━━━━━━━━━━━━\u001b[0m \u001b[32m57.6/57.6 MB\u001b[0m \u001b[31m17.7 MB/s\u001b[0m eta \u001b[36m0:00:00\u001b[0m\n",
            "\u001b[?25hDownloading gradio_client-1.5.4-py3-none-any.whl (321 kB)\n",
            "\u001b[2K   \u001b[90m━━━━━━━━━━━━━━━━━━━━━━━━━━━━━━━━━━━━━━━━\u001b[0m \u001b[32m321.4/321.4 kB\u001b[0m \u001b[31m13.2 MB/s\u001b[0m eta \u001b[36m0:00:00\u001b[0m\n",
            "\u001b[?25hDownloading aiofiles-23.2.1-py3-none-any.whl (15 kB)\n",
            "Downloading fastapi-0.115.6-py3-none-any.whl (94 kB)\n",
            "\u001b[2K   \u001b[90m━━━━━━━━━━━━━━━━━━━━━━━━━━━━━━━━━━━━━━━━\u001b[0m \u001b[32m94.8/94.8 kB\u001b[0m \u001b[31m4.9 MB/s\u001b[0m eta \u001b[36m0:00:00\u001b[0m\n",
            "\u001b[?25hDownloading MarkupSafe-2.1.5-cp310-cp310-manylinux_2_17_x86_64.manylinux2014_x86_64.whl (25 kB)\n",
            "Downloading python_multipart-0.0.20-py3-none-any.whl (24 kB)\n",
            "Downloading ruff-0.9.1-py3-none-manylinux_2_17_x86_64.manylinux2014_x86_64.whl (11.3 MB)\n",
            "\u001b[2K   \u001b[90m━━━━━━━━━━━━━━━━━━━━━━━━━━━━━━━━━━━━━━━━\u001b[0m \u001b[32m11.3/11.3 MB\u001b[0m \u001b[31m89.8 MB/s\u001b[0m eta \u001b[36m0:00:00\u001b[0m\n",
            "\u001b[?25hDownloading safehttpx-0.1.6-py3-none-any.whl (8.7 kB)\n",
            "Downloading semantic_version-2.10.0-py2.py3-none-any.whl (15 kB)\n",
            "Downloading starlette-0.41.3-py3-none-any.whl (73 kB)\n",
            "\u001b[2K   \u001b[90m━━━━━━━━━━━━━━━━━━━━━━━━━━━━━━━━━━━━━━━━\u001b[0m \u001b[32m73.2/73.2 kB\u001b[0m \u001b[31m4.1 MB/s\u001b[0m eta \u001b[36m0:00:00\u001b[0m\n",
            "\u001b[?25hDownloading tomlkit-0.13.2-py3-none-any.whl (37 kB)\n",
            "Downloading uvicorn-0.34.0-py3-none-any.whl (62 kB)\n",
            "\u001b[2K   \u001b[90m━━━━━━━━━━━━━━━━━━━━━━━━━━━━━━━━━━━━━━━━\u001b[0m \u001b[32m62.3/62.3 kB\u001b[0m \u001b[31m3.1 MB/s\u001b[0m eta \u001b[36m0:00:00\u001b[0m\n",
            "\u001b[?25hDownloading ffmpy-0.5.0-py3-none-any.whl (6.0 kB)\n",
            "Downloading pydub-0.25.1-py2.py3-none-any.whl (32 kB)\n",
            "Installing collected packages: pydub, uvicorn, tomlkit, semantic-version, ruff, python-multipart, markupsafe, ffmpy, aiofiles, starlette, safehttpx, gradio-client, fastapi, gradio\n",
            "  Attempting uninstall: markupsafe\n",
            "    Found existing installation: MarkupSafe 3.0.2\n",
            "    Uninstalling MarkupSafe-3.0.2:\n",
            "      Successfully uninstalled MarkupSafe-3.0.2\n",
            "Successfully installed aiofiles-23.2.1 fastapi-0.115.6 ffmpy-0.5.0 gradio-5.12.0 gradio-client-1.5.4 markupsafe-2.1.5 pydub-0.25.1 python-multipart-0.0.20 ruff-0.9.1 safehttpx-0.1.6 semantic-version-2.10.0 starlette-0.41.3 tomlkit-0.13.2 uvicorn-0.34.0\n"
          ]
        }
      ]
    },
    {
      "cell_type": "code",
      "source": [
        "import pandas as pd\n",
        "import numpy as np\n",
        "import gradio as gr"
      ],
      "metadata": {
        "id": "jkavtQee10wO"
      },
      "execution_count": null,
      "outputs": []
    },
    {
      "cell_type": "markdown",
      "source": [
        "Load the datasets ( Steam Tables)"
      ],
      "metadata": {
        "id": "Y0SCPFBr2H0h"
      }
    },
    {
      "cell_type": "code",
      "source": [
        "compressed_liquid_and_superheated_steam = pd.read_csv('/mnt/data/compressed_liquid_and_superheated_steam_V1.3.csv', skiprows=5, sep=',', engine='python')\n",
        "saturated_by_pressure = pd.read_csv('/mnt/data/saturated_by_pressure_V1.4.csv', skiprows=5, sep=',', engine='python')\n",
        "saturated_by_temperature = pd.read_csv('/mnt/data/saturated_by_temperature_V1.5.csv', skiprows=5, sep=',', engine='python')\n"
      ],
      "metadata": {
        "id": "e1XNDSMF2Vvo"
      },
      "execution_count": null,
      "outputs": []
    },
    {
      "cell_type": "code",
      "source": [
        "print(compressed_liquid_and_superheated_steam.head())  # Muestra las primeras 5 filas\n",
        "print(saturated_by_pressure.head())\n",
        "print(saturated_by_temperature.head())"
      ],
      "metadata": {
        "colab": {
          "base_uri": "https://localhost:8080/"
        },
        "id": "3cK1ONgf2jDR",
        "outputId": "ed2bb651-e355-455a-cfa2-67c7a2f8527e"
      },
      "execution_count": null,
      "outputs": [
        {
          "output_type": "stream",
          "name": "stdout",
          "text": [
            "   Pressure (MPa)   Temperature (°C)   Specific Volume (m^3/kg)  \\\n",
            "0            0.01                0.0                   0.001000   \n",
            "1            0.01                5.0                   0.001000   \n",
            "2            0.01               10.0                   0.001000   \n",
            "3            0.01               15.0                   0.001001   \n",
            "4            0.01               20.0                   0.001002   \n",
            "\n",
            "   Density (kg/m^3)   Specific Internal Energy (kJ/kg)  \\\n",
            "0             999.8                          -0.040002   \n",
            "1            999.92                          21.019999   \n",
            "2            999.66                          42.019997   \n",
            "3            999.06                          62.979991   \n",
            "4            998.17                          83.909982   \n",
            "\n",
            "   Specific Enthalpy (kJ/kg)  Specific Entropy [kJ/(kg K)]      Phase  \n",
            "0                      -0.03                      -0.00015   \"liquid\"  \n",
            "1                      21.03                       0.07625   \"liquid\"  \n",
            "2                      42.03                       0.15109   \"liquid\"  \n",
            "3                      62.99                       0.22446   \"liquid\"  \n",
            "4                      83.92                       0.29648   \"liquid\"  \n",
            "    P (MPa)  T (°C)  Specific Volume Liquid (m^3/kg)  \\\n",
            "0  0.000612   0.010                            0.001   \n",
            "1  0.000700   1.881                            0.001   \n",
            "2  0.000800   3.761                            0.001   \n",
            "3  0.000900   5.444                            0.001   \n",
            "4  0.001000   6.970                            0.001   \n",
            "\n",
            "   Specific Volume Vapor (m^3/kg)  Internal Energy Liquid (kJ/kg)  \\\n",
            "0                         205.991                            0.00   \n",
            "1                         181.217                            7.89   \n",
            "2                         159.640                           15.81   \n",
            "3                         142.757                           22.89   \n",
            "4                         129.178                           29.30   \n",
            "\n",
            "   Internal Energy Vapor (kJ/kg)  Internal Energy of Vaporization (kJ/kg)  \\\n",
            "0                         2374.9                                  2374.90   \n",
            "1                         2377.4                                  2369.51   \n",
            "2                         2380.1                                  2364.29   \n",
            "3                         2382.4                                  2359.51   \n",
            "4                         2384.5                                  2355.20   \n",
            "\n",
            "   Enthalpy Liquid (kJ/kg)  Enthalpy Vapor (kJ/kg)  \\\n",
            "0                     0.00                  2500.9   \n",
            "1                     7.89                  2504.3   \n",
            "2                    15.81                  2507.8   \n",
            "3                    22.89                  2510.9   \n",
            "4                    29.30                  2513.7   \n",
            "\n",
            "   Enthalpy of Vaporization (kJ/kg)  Entropy Liquid [kJ/(kg K)]  \\\n",
            "0                            2500.9                     0.00000   \n",
            "1                            2496.5                     0.02878   \n",
            "2                            2492.0                     0.05748   \n",
            "3                            2488.0                     0.08297   \n",
            "4                            2484.4                     0.10591   \n",
            "\n",
            "   Entropy Vapor [kJ/(kg K)]  Entropy of Vaporization [kJ/(kg K)]  \n",
            "0                     9.1555                               9.1555  \n",
            "1                     9.1058                               9.0770  \n",
            "2                     9.0567                               8.9992  \n",
            "3                     9.0135                               8.9305  \n",
            "4                     8.9749                               8.8690  \n",
            "  Unnamed: 0 Unnamed: 1                       Unnamed: 2  \\\n",
            "0     T (°C)    P (MPa)  Specific Volume Liquid (m^3/kg)   \n",
            "1       0.01  0.0006117                       0.00100021   \n",
            "2          1  0.0006571                       0.00100015   \n",
            "3          2   0.000706                       0.00100011   \n",
            "4          3  0.0007581                       0.00100008   \n",
            "\n",
            "                       Unnamed: 3                      Unnamed: 4  \\\n",
            "0  Specific Volume Vapor (m^3/kg)  Internal Energy Liquid (kJ/kg)   \n",
            "1                         205.991                               0   \n",
            "2                         192.439                            4.18   \n",
            "3                         179.758                            8.39   \n",
            "4                         168.008                            12.6   \n",
            "\n",
            "                      Unnamed: 5                               Unnamed: 6  \\\n",
            "0  Internal Energy Vapor (kJ/kg)  Internal Energy of Vaporization (kJ/kg)   \n",
            "1                         2374.9                                   2374.9   \n",
            "2                         2376.2                                  2372.02   \n",
            "3                         2377.7                                  2369.31   \n",
            "4                           2379                                   2366.4   \n",
            "\n",
            "                Unnamed: 7              Unnamed: 8                Unnamed: 9  \\\n",
            "0  Enthalpy Liquid (kJ/kg)  Enthalpy Vapor (kJ/kg)  Enthalpy of Vaporization   \n",
            "1                        0                  2500.9                    2500.9   \n",
            "2                     4.18                  2502.7                    2498.6   \n",
            "3                     8.39                  2504.6                    2496.2   \n",
            "4                     12.6                  2506.4                    2493.8   \n",
            "\n",
            "                  Unnamed: 10                Unnamed: 11  \\\n",
            "0  Entropy Liquid [kJ/(kg K)]  Entropy Vapor [kJ/(kg K)]   \n",
            "1                           0                     9.1555   \n",
            "2                     0.01526                     9.1291   \n",
            "3                     0.03061                     9.1027   \n",
            "4                     0.04589                     9.0765   \n",
            "\n",
            "                           Unnamed: 12  \n",
            "0  Entropy of Vaporization [kJ/(kg K)]  \n",
            "1                               9.1555  \n",
            "2                               9.1138  \n",
            "3                                9.072  \n",
            "4                               9.0306  \n"
          ]
        }
      ]
    },
    {
      "cell_type": "code",
      "source": [
        "columns_with_units = {\n",
        "    \"Compressed Liquid and Superheated Steam\": [\n",
        "        \"Pressure (MPa)\", \"Temperature (°C)\", \"Specific Volume (m^3/kg)\", \"Density (kg/m^3)\",\n",
        "        \"Specific Internal Energy (kJ/kg)\", \"Specific Enthalpy (kJ/kg)\", \"Specific Entropy [kJ/(kg K)]\"\n",
        "    ],\n",
        "    \"Saturated by Pressure\": [\n",
        "        \"P (MPa)\", \"T (°C)\", \"Specific Volume Liquid (m^3/kg)\", \"Specific Volume Vapor (m^3/kg)\",\n",
        "        \"Internal Energy Liquid (kJ/kg)\", \"Internal Energy Vapor (kJ/kg)\", \"Enthalpy Liquid (kJ/kg)\",\n",
        "        \"Enthalpy Vapor (kJ/kg)\", \"Entropy Liquid [kJ/(kg K)]\", \"Entropy Vapor [kJ/(kg K)]\"\n",
        "    ],\n",
        "    \"Saturated by Temperature\": [\n",
        "        \"T (°C)\", \"P (MPa)\", \"Specific Volume Liquid (m^3/kg)\", \"Specific Volume Vapor (m^3/kg)\",\n",
        "        \"Internal Energy Liquid (kJ/kg)\", \"Internal Energy Vapor (kJ/kg)\", \"Enthalpy Liquid (kJ/kg)\",\n",
        "        \"Enthalpy Vapor (kJ/kg)\", \"Entropy Liquid [kJ/(kg K)]\", \"Entropy Vapor [kJ/(kg K)]\"\n",
        "    ]\n",
        "}"
      ],
      "metadata": {
        "id": "vsWX7s3V5m3j"
      },
      "execution_count": null,
      "outputs": []
    },
    {
      "cell_type": "markdown",
      "source": [
        "Function to interpolate data"
      ],
      "metadata": {
        "id": "6XAoLnAd3tWM"
      }
    },
    {
      "cell_type": "code",
      "source": [
        "def interpolate_data(df, column, value):\n",
        "    try:\n",
        "        # Ensure the value is numeric\n",
        "        value = float(value)\n",
        "        df[column] = df[column].astype(float)\n",
        "\n",
        "        # Sort and interpolate\n",
        "        sorted_df = df.sort_values(by=column)\n",
        "        interpolated_row = sorted_df.iloc[(sorted_df[column] - value).abs().argsort()[:2]]\n",
        "\n",
        "        if len(interpolated_row) < 2:\n",
        "            return \"Not enough data points to interpolate.\"\n",
        "\n",
        "        return interpolated_row.mean().to_dict()\n",
        "    except Exception as e:\n",
        "        return f\"Error: {str(e)}\""
      ],
      "metadata": {
        "id": "D8ZPiOs832OY"
      },
      "execution_count": null,
      "outputs": []
    },
    {
      "cell_type": "markdown",
      "source": [
        "Query function for Gradio"
      ],
      "metadata": {
        "id": "uRpEqMeA39zZ"
      }
    },
    {
      "cell_type": "code",
      "source": [
        "def query_data(dataset, column_name, value):\n",
        "    if dataset == \"Compressed Liquid and Superheated Steam\":\n",
        "        df = compressed_liquid_and_superheated_steam\n",
        "    elif dataset == \"Saturated by Pressure\":\n",
        "        df = saturated_by_pressure\n",
        "    elif dataset == \"Saturated by Temperature\":\n",
        "        df = saturated_by_temperature\n",
        "    else:\n",
        "        return \"Invalid dataset selected.\"\n",
        "\n",
        "\n",
        "    if column_name not in df.columns:\n",
        "        return f\"Column '{column_name}' not found in the dataset.\"\n",
        "\n",
        "\n",
        "    return interpolate_data(df, column_name, value)\n",
        "\n",
        "\n",
        "with gr.Blocks() as gr_app:\n",
        "    gr.Markdown(\"## Steam Tables \")\n",
        "\n",
        "    with gr.Row():\n",
        "        dataset_dropdown = gr.Dropdown(\n",
        "            choices=[\n",
        "                \"Compressed Liquid and Superheated Steam\",\n",
        "                \"Saturated by Pressure\",\n",
        "                \"Saturated by Temperature\"\n",
        "            ],\n",
        "            label=\"Select Dataset\"\n",
        "        )\n",
        "        column_dropdown = gr.Dropdown(\n",
        "            choices=[],\n",
        "            label=\"Select Column (with Units)\",\n",
        "            interactive=True\n",
        "        )\n",
        "        value_input = gr.Textbox(label=\"Value\", placeholder=\"Enter the value to query (numeric)\")\n",
        "\n",
        "    output = gr.JSON(label=\"Interpolated Data\")\n",
        "\n",
        "\n",
        "    def update_columns(dataset):\n",
        "        return gr.update(choices=columns_with_units.get(dataset, []))\n",
        "\n",
        "    dataset_dropdown.change(update_columns, inputs=dataset_dropdown, outputs=column_dropdown)\n",
        "\n",
        "    submit_button = gr.Button(\"Query Data\")\n",
        "    submit_button.click(query_data, inputs=[dataset_dropdown, column_dropdown, value_input], outputs=output)"
      ],
      "metadata": {
        "id": "4CzsXMnX6D8C"
      },
      "execution_count": null,
      "outputs": []
    },
    {
      "cell_type": "code",
      "source": [
        "gr_app.launch()"
      ],
      "metadata": {
        "colab": {
          "base_uri": "https://localhost:8080/",
          "height": 646
        },
        "id": "QnlSxgvo4Ssl",
        "outputId": "2ff8cfda-23aa-4480-c2a2-51d87fc403d2"
      },
      "execution_count": null,
      "outputs": [
        {
          "output_type": "stream",
          "name": "stdout",
          "text": [
            "Running Gradio in a Colab notebook requires sharing enabled. Automatically setting `share=True` (you can turn this off by setting `share=False` in `launch()` explicitly).\n",
            "\n",
            "Colab notebook detected. To show errors in colab notebook, set debug=True in launch()\n",
            "* Running on public URL: https://8af90a0892846bccc2.gradio.live\n",
            "\n",
            "This share link expires in 72 hours. For free permanent hosting and GPU upgrades, run `gradio deploy` from the terminal in the working directory to deploy to Hugging Face Spaces (https://huggingface.co/spaces)\n"
          ]
        },
        {
          "output_type": "display_data",
          "data": {
            "text/plain": [
              "<IPython.core.display.HTML object>"
            ],
            "text/html": [
              "<div><iframe src=\"https://8af90a0892846bccc2.gradio.live\" width=\"100%\" height=\"500\" allow=\"autoplay; camera; microphone; clipboard-read; clipboard-write;\" frameborder=\"0\" allowfullscreen></iframe></div>"
            ]
          },
          "metadata": {}
        },
        {
          "output_type": "execute_result",
          "data": {
            "text/plain": []
          },
          "metadata": {},
          "execution_count": 16
        }
      ]
    }
  ]
}